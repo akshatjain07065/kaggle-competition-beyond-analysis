{
 "cells": [
  {
   "cell_type": "code",
   "execution_count": 1,
   "id": "4af5954c",
   "metadata": {
    "_cell_guid": "b1076dfc-b9ad-4769-8c92-a6c4dae69d19",
    "_uuid": "8f2839f25d086af736a60e9eeb907d3b93b6e0e5",
    "execution": {
     "iopub.execute_input": "2021-08-29T11:47:10.917666Z",
     "iopub.status.busy": "2021-08-29T11:47:10.916202Z",
     "iopub.status.idle": "2021-08-29T11:47:10.933876Z",
     "shell.execute_reply": "2021-08-29T11:47:10.934655Z",
     "shell.execute_reply.started": "2021-08-29T11:42:54.739721Z"
    },
    "papermill": {
     "duration": 0.044755,
     "end_time": "2021-08-29T11:47:10.935218",
     "exception": false,
     "start_time": "2021-08-29T11:47:10.890463",
     "status": "completed"
    },
    "tags": []
   },
   "outputs": [
    {
     "name": "stdout",
     "output_type": "stream",
     "text": [
      "/kaggle/input/beyond-analysis/train.csv\n",
      "/kaggle/input/beyond-analysis/sample_submission_random.csv\n",
      "/kaggle/input/beyond-analysis/test.csv\n"
     ]
    }
   ],
   "source": [
    "# This Python 3 environment comes with many helpful analytics libraries installed\n",
    "# It is defined by the kaggle/python Docker image: https://github.com/kaggle/docker-python\n",
    "# For example, here's several helpful packages to load\n",
    "\n",
    "import numpy as np # linear algebra\n",
    "import pandas as pd # data processing, CSV file I/O (e.g. pd.read_csv)\n",
    "\n",
    "# Input data files are available in the read-only \"../input/\" directory\n",
    "# For example, running this (by clicking run or pressing Shift+Enter) will list all files under the input directory\n",
    "\n",
    "import os\n",
    "for dirname, _, filenames in os.walk('/kaggle/input'):\n",
    "    for filename in filenames:\n",
    "        print(os.path.join(dirname, filename))\n",
    "\n",
    "# You can write up to 20GB to the current directory (/kaggle/working/) that gets preserved as output when you create a version using \"Save & Run All\" \n",
    "# You can also write temporary files to /kaggle/temp/, but they won't be saved outside of the current session"
   ]
  },
  {
   "cell_type": "code",
   "execution_count": 2,
   "id": "424b6998",
   "metadata": {
    "execution": {
     "iopub.execute_input": "2021-08-29T11:47:10.990373Z",
     "iopub.status.busy": "2021-08-29T11:47:10.989391Z",
     "iopub.status.idle": "2021-08-29T11:47:16.660988Z",
     "shell.execute_reply": "2021-08-29T11:47:16.661464Z",
     "shell.execute_reply.started": "2021-08-29T11:42:57.281492Z"
    },
    "papermill": {
     "duration": 5.700394,
     "end_time": "2021-08-29T11:47:16.661668",
     "exception": false,
     "start_time": "2021-08-29T11:47:10.961274",
     "status": "completed"
    },
    "tags": []
   },
   "outputs": [
    {
     "data": {
      "text/html": [
       "<div>\n",
       "<style scoped>\n",
       "    .dataframe tbody tr th:only-of-type {\n",
       "        vertical-align: middle;\n",
       "    }\n",
       "\n",
       "    .dataframe tbody tr th {\n",
       "        vertical-align: top;\n",
       "    }\n",
       "\n",
       "    .dataframe thead th {\n",
       "        text-align: right;\n",
       "    }\n",
       "</style>\n",
       "<table border=\"1\" class=\"dataframe\">\n",
       "  <thead>\n",
       "    <tr style=\"text-align: right;\">\n",
       "      <th></th>\n",
       "      <th>UNIQUE_IDENTIFIER</th>\n",
       "      <th>SEQUENCE_NO</th>\n",
       "      <th>STATUS_CHECK</th>\n",
       "      <th>CATEGORY_1</th>\n",
       "      <th>CATEGORY_2</th>\n",
       "      <th>ACTIVE_YN</th>\n",
       "      <th>ENTRY</th>\n",
       "      <th>REVENUE</th>\n",
       "      <th>WINNINGS_1</th>\n",
       "      <th>WINNINGS_2</th>\n",
       "      <th>...</th>\n",
       "      <th>WITHDRAW_NUMBER</th>\n",
       "      <th>DEPOSIT_TRAILS</th>\n",
       "      <th>ENTRY_NUMBER</th>\n",
       "      <th>WINNINGS_NUMBER</th>\n",
       "      <th>PRACTICE_ENTRY</th>\n",
       "      <th>PRACTICE_WINNINGS</th>\n",
       "      <th>PRACTICE_ENTRY_NUMBER</th>\n",
       "      <th>PRACTICE_WINNINGS_NUMBER</th>\n",
       "      <th>Y1</th>\n",
       "      <th>Y2</th>\n",
       "    </tr>\n",
       "  </thead>\n",
       "  <tbody>\n",
       "    <tr>\n",
       "      <th>0</th>\n",
       "      <td>98481267304</td>\n",
       "      <td>1</td>\n",
       "      <td>0</td>\n",
       "      <td>M</td>\n",
       "      <td>B</td>\n",
       "      <td>1</td>\n",
       "      <td>0.00000</td>\n",
       "      <td>0.000000</td>\n",
       "      <td>0.0000</td>\n",
       "      <td>0.0</td>\n",
       "      <td>...</td>\n",
       "      <td>0.0</td>\n",
       "      <td>0.0</td>\n",
       "      <td>0.0</td>\n",
       "      <td>0.0</td>\n",
       "      <td>0.0</td>\n",
       "      <td>0.0</td>\n",
       "      <td>0.0</td>\n",
       "      <td>0.0</td>\n",
       "      <td>4.449287</td>\n",
       "      <td>101.369863</td>\n",
       "    </tr>\n",
       "    <tr>\n",
       "      <th>1</th>\n",
       "      <td>98481267304</td>\n",
       "      <td>2</td>\n",
       "      <td>0</td>\n",
       "      <td>M</td>\n",
       "      <td>B</td>\n",
       "      <td>1</td>\n",
       "      <td>0.13735</td>\n",
       "      <td>0.011550</td>\n",
       "      <td>0.0999</td>\n",
       "      <td>0.0</td>\n",
       "      <td>...</td>\n",
       "      <td>0.0</td>\n",
       "      <td>0.0</td>\n",
       "      <td>1.8</td>\n",
       "      <td>1.0</td>\n",
       "      <td>0.0</td>\n",
       "      <td>0.0</td>\n",
       "      <td>0.0</td>\n",
       "      <td>0.0</td>\n",
       "      <td>4.449287</td>\n",
       "      <td>101.369863</td>\n",
       "    </tr>\n",
       "    <tr>\n",
       "      <th>2</th>\n",
       "      <td>98481267304</td>\n",
       "      <td>3</td>\n",
       "      <td>0</td>\n",
       "      <td>M</td>\n",
       "      <td>B</td>\n",
       "      <td>1</td>\n",
       "      <td>0.15835</td>\n",
       "      <td>0.010425</td>\n",
       "      <td>0.0242</td>\n",
       "      <td>0.0</td>\n",
       "      <td>...</td>\n",
       "      <td>0.0</td>\n",
       "      <td>0.0</td>\n",
       "      <td>0.7</td>\n",
       "      <td>0.3</td>\n",
       "      <td>0.0</td>\n",
       "      <td>0.0</td>\n",
       "      <td>0.0</td>\n",
       "      <td>0.0</td>\n",
       "      <td>4.449287</td>\n",
       "      <td>101.369863</td>\n",
       "    </tr>\n",
       "    <tr>\n",
       "      <th>3</th>\n",
       "      <td>98481267304</td>\n",
       "      <td>4</td>\n",
       "      <td>0</td>\n",
       "      <td>M</td>\n",
       "      <td>B</td>\n",
       "      <td>1</td>\n",
       "      <td>0.44490</td>\n",
       "      <td>0.035850</td>\n",
       "      <td>0.2398</td>\n",
       "      <td>0.0</td>\n",
       "      <td>...</td>\n",
       "      <td>0.0</td>\n",
       "      <td>0.0</td>\n",
       "      <td>2.8</td>\n",
       "      <td>1.5</td>\n",
       "      <td>0.0</td>\n",
       "      <td>0.0</td>\n",
       "      <td>0.0</td>\n",
       "      <td>0.0</td>\n",
       "      <td>4.449287</td>\n",
       "      <td>101.369863</td>\n",
       "    </tr>\n",
       "    <tr>\n",
       "      <th>4</th>\n",
       "      <td>98481267304</td>\n",
       "      <td>5</td>\n",
       "      <td>0</td>\n",
       "      <td>M</td>\n",
       "      <td>B</td>\n",
       "      <td>1</td>\n",
       "      <td>0.00000</td>\n",
       "      <td>0.000000</td>\n",
       "      <td>0.0000</td>\n",
       "      <td>0.0</td>\n",
       "      <td>...</td>\n",
       "      <td>0.0</td>\n",
       "      <td>0.0</td>\n",
       "      <td>0.0</td>\n",
       "      <td>0.0</td>\n",
       "      <td>0.0</td>\n",
       "      <td>0.0</td>\n",
       "      <td>0.0</td>\n",
       "      <td>0.0</td>\n",
       "      <td>4.449287</td>\n",
       "      <td>101.369863</td>\n",
       "    </tr>\n",
       "  </tbody>\n",
       "</table>\n",
       "<p>5 rows × 25 columns</p>\n",
       "</div>"
      ],
      "text/plain": [
       "   UNIQUE_IDENTIFIER  SEQUENCE_NO  STATUS_CHECK CATEGORY_1 CATEGORY_2  \\\n",
       "0        98481267304            1             0          M          B   \n",
       "1        98481267304            2             0          M          B   \n",
       "2        98481267304            3             0          M          B   \n",
       "3        98481267304            4             0          M          B   \n",
       "4        98481267304            5             0          M          B   \n",
       "\n",
       "   ACTIVE_YN    ENTRY   REVENUE  WINNINGS_1  WINNINGS_2  ...  WITHDRAW_NUMBER  \\\n",
       "0          1  0.00000  0.000000      0.0000         0.0  ...              0.0   \n",
       "1          1  0.13735  0.011550      0.0999         0.0  ...              0.0   \n",
       "2          1  0.15835  0.010425      0.0242         0.0  ...              0.0   \n",
       "3          1  0.44490  0.035850      0.2398         0.0  ...              0.0   \n",
       "4          1  0.00000  0.000000      0.0000         0.0  ...              0.0   \n",
       "\n",
       "   DEPOSIT_TRAILS  ENTRY_NUMBER  WINNINGS_NUMBER  PRACTICE_ENTRY  \\\n",
       "0             0.0           0.0              0.0             0.0   \n",
       "1             0.0           1.8              1.0             0.0   \n",
       "2             0.0           0.7              0.3             0.0   \n",
       "3             0.0           2.8              1.5             0.0   \n",
       "4             0.0           0.0              0.0             0.0   \n",
       "\n",
       "   PRACTICE_WINNINGS  PRACTICE_ENTRY_NUMBER  PRACTICE_WINNINGS_NUMBER  \\\n",
       "0                0.0                    0.0                       0.0   \n",
       "1                0.0                    0.0                       0.0   \n",
       "2                0.0                    0.0                       0.0   \n",
       "3                0.0                    0.0                       0.0   \n",
       "4                0.0                    0.0                       0.0   \n",
       "\n",
       "         Y1          Y2  \n",
       "0  4.449287  101.369863  \n",
       "1  4.449287  101.369863  \n",
       "2  4.449287  101.369863  \n",
       "3  4.449287  101.369863  \n",
       "4  4.449287  101.369863  \n",
       "\n",
       "[5 rows x 25 columns]"
      ]
     },
     "execution_count": 2,
     "metadata": {},
     "output_type": "execute_result"
    }
   ],
   "source": [
    "data=pd.read_csv(\"/kaggle/input/beyond-analysis/train.csv\")\n",
    "data.head()"
   ]
  },
  {
   "cell_type": "code",
   "execution_count": 3,
   "id": "a06ca750",
   "metadata": {
    "execution": {
     "iopub.execute_input": "2021-08-29T11:47:16.700418Z",
     "iopub.status.busy": "2021-08-29T11:47:16.699754Z",
     "iopub.status.idle": "2021-08-29T11:47:16.809277Z",
     "shell.execute_reply": "2021-08-29T11:47:16.808637Z",
     "shell.execute_reply.started": "2021-08-29T11:43:01.998329Z"
    },
    "papermill": {
     "duration": 0.129612,
     "end_time": "2021-08-29T11:47:16.809415",
     "exception": false,
     "start_time": "2021-08-29T11:47:16.679803",
     "status": "completed"
    },
    "tags": []
   },
   "outputs": [
    {
     "data": {
      "text/plain": [
       "((1246837, 23), (1246837, 2), (1246837, 25))"
      ]
     },
     "execution_count": 3,
     "metadata": {},
     "output_type": "execute_result"
    }
   ],
   "source": [
    "X=data.iloc[:,:-2]\n",
    "y=data.iloc[:,-2:]\n",
    "X.shape,y.shape,data.shape"
   ]
  },
  {
   "cell_type": "code",
   "execution_count": null,
   "id": "9edfe502",
   "metadata": {
    "papermill": {
     "duration": 0.017999,
     "end_time": "2021-08-29T11:47:16.845054",
     "exception": false,
     "start_time": "2021-08-29T11:47:16.827055",
     "status": "completed"
    },
    "tags": []
   },
   "outputs": [],
   "source": []
  },
  {
   "cell_type": "code",
   "execution_count": 4,
   "id": "7f0f422b",
   "metadata": {
    "execution": {
     "iopub.execute_input": "2021-08-29T11:47:16.884607Z",
     "iopub.status.busy": "2021-08-29T11:47:16.883740Z",
     "iopub.status.idle": "2021-08-29T11:47:18.000184Z",
     "shell.execute_reply": "2021-08-29T11:47:17.999688Z",
     "shell.execute_reply.started": "2021-08-29T11:16:49.096624Z"
    },
    "papermill": {
     "duration": 1.137789,
     "end_time": "2021-08-29T11:47:18.000351",
     "exception": false,
     "start_time": "2021-08-29T11:47:16.862562",
     "status": "completed"
    },
    "tags": []
   },
   "outputs": [],
   "source": [
    "# !pip install category_encoders\n",
    "import category_encoders as ce"
   ]
  },
  {
   "cell_type": "code",
   "execution_count": 5,
   "id": "63f64fb2",
   "metadata": {
    "execution": {
     "iopub.execute_input": "2021-08-29T11:47:18.041310Z",
     "iopub.status.busy": "2021-08-29T11:47:18.040659Z",
     "iopub.status.idle": "2021-08-29T11:47:20.771688Z",
     "shell.execute_reply": "2021-08-29T11:47:20.772120Z",
     "shell.execute_reply.started": "2021-08-29T11:16:54.831937Z"
    },
    "papermill": {
     "duration": 2.753289,
     "end_time": "2021-08-29T11:47:20.772335",
     "exception": false,
     "start_time": "2021-08-29T11:47:18.019046",
     "status": "completed"
    },
    "tags": []
   },
   "outputs": [
    {
     "name": "stderr",
     "output_type": "stream",
     "text": [
      "/opt/conda/lib/python3.7/site-packages/category_encoders/utils.py:21: FutureWarning: is_categorical is deprecated and will be removed in a future version.  Use is_categorical_dtype instead\n",
      "  elif pd.api.types.is_categorical(cols):\n"
     ]
    }
   ],
   "source": [
    "from sklearn.preprocessing import LabelEncoder\n",
    "\n",
    "# encoder1= LabelEncoder()\n",
    "# encoder2= LabelEncoder()\n",
    "# data.iloc[:,3]=encoder1.fit_transform(data.iloc[:,3])\n",
    "# data.iloc[:,4]=encoder2.fit_transform(data.iloc[:,4])\n",
    "encoder = ce.BinaryEncoder(cols=[\"CATEGORY_1\",\"CATEGORY_2\"])\n",
    "X=encoder.fit_transform(X)"
   ]
  },
  {
   "cell_type": "code",
   "execution_count": 6,
   "id": "4202bfd1",
   "metadata": {
    "execution": {
     "iopub.execute_input": "2021-08-29T11:47:21.089268Z",
     "iopub.status.busy": "2021-08-29T11:47:21.088608Z",
     "iopub.status.idle": "2021-08-29T11:47:21.091924Z",
     "shell.execute_reply": "2021-08-29T11:47:21.091473Z",
     "shell.execute_reply.started": "2021-08-29T11:17:06.466800Z"
    },
    "papermill": {
     "duration": 0.301608,
     "end_time": "2021-08-29T11:47:21.092056",
     "exception": false,
     "start_time": "2021-08-29T11:47:20.790448",
     "status": "completed"
    },
    "tags": []
   },
   "outputs": [],
   "source": [
    "sum(X[\"CATEGORY_1_0\"]),sum(X[\"CATEGORY_2_0\"])\n",
    "# CATEGORY_1_0 , 2_0 not useful so dropping 'em\n",
    "X.drop([\"CATEGORY_1_0\",\"CATEGORY_2_0\"],axis=1,inplace=True)"
   ]
  },
  {
   "cell_type": "code",
   "execution_count": 7,
   "id": "071d5a9d",
   "metadata": {
    "execution": {
     "iopub.execute_input": "2021-08-29T11:47:21.133382Z",
     "iopub.status.busy": "2021-08-29T11:47:21.132724Z",
     "iopub.status.idle": "2021-08-29T11:47:21.604326Z",
     "shell.execute_reply": "2021-08-29T11:47:21.602921Z",
     "shell.execute_reply.started": "2021-08-29T11:17:39.177078Z"
    },
    "papermill": {
     "duration": 0.494425,
     "end_time": "2021-08-29T11:47:21.604647",
     "exception": true,
     "start_time": "2021-08-29T11:47:21.110222",
     "status": "failed"
    },
    "tags": []
   },
   "outputs": [
    {
     "ename": "ValueError",
     "evalue": "test_size=0 should be either positive and smaller than the number of samples 1246837 or a float in the (0, 1) range",
     "output_type": "error",
     "traceback": [
      "\u001b[0;31m---------------------------------------------------------------------------\u001b[0m",
      "\u001b[0;31mValueError\u001b[0m                                Traceback (most recent call last)",
      "\u001b[0;32m<ipython-input-7-7f066c62ce2e>\u001b[0m in \u001b[0;36m<module>\u001b[0;34m\u001b[0m\n\u001b[1;32m      1\u001b[0m \u001b[0;32mfrom\u001b[0m \u001b[0msklearn\u001b[0m\u001b[0;34m.\u001b[0m\u001b[0mensemble\u001b[0m \u001b[0;32mimport\u001b[0m \u001b[0mRandomForestRegressor\u001b[0m\u001b[0;34m\u001b[0m\u001b[0;34m\u001b[0m\u001b[0m\n\u001b[1;32m      2\u001b[0m \u001b[0;32mfrom\u001b[0m \u001b[0msklearn\u001b[0m\u001b[0;34m.\u001b[0m\u001b[0mmodel_selection\u001b[0m \u001b[0;32mimport\u001b[0m \u001b[0mtrain_test_split\u001b[0m\u001b[0;34m\u001b[0m\u001b[0;34m\u001b[0m\u001b[0m\n\u001b[0;32m----> 3\u001b[0;31m \u001b[0mX_train\u001b[0m\u001b[0;34m,\u001b[0m \u001b[0mX_test\u001b[0m\u001b[0;34m,\u001b[0m \u001b[0my_train\u001b[0m\u001b[0;34m,\u001b[0m \u001b[0my_test\u001b[0m \u001b[0;34m=\u001b[0m \u001b[0mtrain_test_split\u001b[0m\u001b[0;34m(\u001b[0m\u001b[0mX\u001b[0m\u001b[0;34m.\u001b[0m\u001b[0miloc\u001b[0m\u001b[0;34m[\u001b[0m\u001b[0;34m:\u001b[0m\u001b[0;34m,\u001b[0m\u001b[0;36m1\u001b[0m\u001b[0;34m:\u001b[0m\u001b[0;34m]\u001b[0m\u001b[0;34m,\u001b[0m \u001b[0my\u001b[0m\u001b[0;34m,\u001b[0m \u001b[0mtest_size\u001b[0m\u001b[0;34m=\u001b[0m\u001b[0;36m0\u001b[0m\u001b[0;34m,\u001b[0m \u001b[0mrandom_state\u001b[0m\u001b[0;34m=\u001b[0m\u001b[0;36m42\u001b[0m\u001b[0;34m)\u001b[0m\u001b[0;34m\u001b[0m\u001b[0;34m\u001b[0m\u001b[0m\n\u001b[0m",
      "\u001b[0;32m/opt/conda/lib/python3.7/site-packages/sklearn/model_selection/_split.py\u001b[0m in \u001b[0;36mtrain_test_split\u001b[0;34m(*arrays, **options)\u001b[0m\n\u001b[1;32m   2129\u001b[0m     \u001b[0mn_samples\u001b[0m \u001b[0;34m=\u001b[0m \u001b[0m_num_samples\u001b[0m\u001b[0;34m(\u001b[0m\u001b[0marrays\u001b[0m\u001b[0;34m[\u001b[0m\u001b[0;36m0\u001b[0m\u001b[0;34m]\u001b[0m\u001b[0;34m)\u001b[0m\u001b[0;34m\u001b[0m\u001b[0;34m\u001b[0m\u001b[0m\n\u001b[1;32m   2130\u001b[0m     n_train, n_test = _validate_shuffle_split(n_samples, test_size, train_size,\n\u001b[0;32m-> 2131\u001b[0;31m                                               default_test_size=0.25)\n\u001b[0m\u001b[1;32m   2132\u001b[0m \u001b[0;34m\u001b[0m\u001b[0m\n\u001b[1;32m   2133\u001b[0m     \u001b[0;32mif\u001b[0m \u001b[0mshuffle\u001b[0m \u001b[0;32mis\u001b[0m \u001b[0;32mFalse\u001b[0m\u001b[0;34m:\u001b[0m\u001b[0;34m\u001b[0m\u001b[0;34m\u001b[0m\u001b[0m\n",
      "\u001b[0;32m/opt/conda/lib/python3.7/site-packages/sklearn/model_selection/_split.py\u001b[0m in \u001b[0;36m_validate_shuffle_split\u001b[0;34m(n_samples, test_size, train_size, default_test_size)\u001b[0m\n\u001b[1;32m   1764\u001b[0m         raise ValueError('test_size={0} should be either positive and smaller'\n\u001b[1;32m   1765\u001b[0m                          \u001b[0;34m' than the number of samples {1} or a float in the '\u001b[0m\u001b[0;34m\u001b[0m\u001b[0;34m\u001b[0m\u001b[0m\n\u001b[0;32m-> 1766\u001b[0;31m                          '(0, 1) range'.format(test_size, n_samples))\n\u001b[0m\u001b[1;32m   1767\u001b[0m \u001b[0;34m\u001b[0m\u001b[0m\n\u001b[1;32m   1768\u001b[0m     if (train_size_type == 'i' and (train_size >= n_samples or train_size <= 0)\n",
      "\u001b[0;31mValueError\u001b[0m: test_size=0 should be either positive and smaller than the number of samples 1246837 or a float in the (0, 1) range"
     ]
    }
   ],
   "source": [
    "from sklearn.ensemble import RandomForestRegressor\n",
    "from sklearn.model_selection import train_test_split\n",
    "X_train, X_test, y_train, y_test = train_test_split(X.iloc[:,1:], y, test_size=0, random_state=42)"
   ]
  },
  {
   "cell_type": "code",
   "execution_count": null,
   "id": "7e885f83",
   "metadata": {
    "execution": {
     "iopub.execute_input": "2021-08-29T11:18:43.078097Z",
     "iopub.status.busy": "2021-08-29T11:18:43.077688Z",
     "iopub.status.idle": "2021-08-29T11:18:43.836044Z",
     "shell.execute_reply": "2021-08-29T11:18:43.834877Z",
     "shell.execute_reply.started": "2021-08-29T11:18:43.078063Z"
    },
    "papermill": {
     "duration": null,
     "end_time": null,
     "exception": null,
     "start_time": null,
     "status": "pending"
    },
    "tags": []
   },
   "outputs": [],
   "source": [
    "from sklearn.preprocessing import StandardScaler\n",
    "sc= StandardScaler()\n",
    "X_train=sc.fit_transform(X_train)\n",
    "X_test=sc.transform(X_test)"
   ]
  },
  {
   "cell_type": "code",
   "execution_count": null,
   "id": "ee659f0b",
   "metadata": {
    "execution": {
     "iopub.execute_input": "2021-08-29T11:18:45.816317Z",
     "iopub.status.busy": "2021-08-29T11:18:45.815942Z",
     "iopub.status.idle": "2021-08-29T11:18:45.825930Z",
     "shell.execute_reply": "2021-08-29T11:18:45.824565Z",
     "shell.execute_reply.started": "2021-08-29T11:18:45.816286Z"
    },
    "papermill": {
     "duration": null,
     "end_time": null,
     "exception": null,
     "start_time": null,
     "status": "pending"
    },
    "tags": []
   },
   "outputs": [],
   "source": [
    "X_train[0,:]"
   ]
  },
  {
   "cell_type": "code",
   "execution_count": null,
   "id": "91cf7324",
   "metadata": {
    "execution": {
     "iopub.execute_input": "2021-08-29T11:18:51.417352Z",
     "iopub.status.busy": "2021-08-29T11:18:51.416838Z",
     "iopub.status.idle": "2021-08-29T11:18:51.423275Z",
     "shell.execute_reply": "2021-08-29T11:18:51.422148Z",
     "shell.execute_reply.started": "2021-08-29T11:18:51.417319Z"
    },
    "papermill": {
     "duration": null,
     "end_time": null,
     "exception": null,
     "start_time": null,
     "status": "pending"
    },
    "tags": []
   },
   "outputs": [],
   "source": [
    "def mse(x,y,modely1,modely2):\n",
    "    \n",
    "    y1=modely1.predict(x)\n",
    "    y2=modely2.predict(x)\n",
    "    print(y1.shape,y.iloc[:,0].shape)\n",
    "    mse1=np.sum((y.iloc[:,0]-y1)**2)\n",
    "    mse2=np.sum((y.iloc[:,1]-y2)**2)\n",
    "    print(mse1,mse2)\n",
    "    return (mse1+mse2)/2\n",
    "    "
   ]
  },
  {
   "cell_type": "code",
   "execution_count": null,
   "id": "df9bca5d",
   "metadata": {
    "execution": {
     "iopub.execute_input": "2021-08-29T11:18:54.856361Z",
     "iopub.status.busy": "2021-08-29T11:18:54.855878Z",
     "iopub.status.idle": "2021-08-29T11:22:24.375303Z",
     "shell.execute_reply": "2021-08-29T11:22:24.374403Z",
     "shell.execute_reply.started": "2021-08-29T11:18:54.856330Z"
    },
    "papermill": {
     "duration": null,
     "end_time": null,
     "exception": null,
     "start_time": null,
     "status": "pending"
    },
    "tags": []
   },
   "outputs": [],
   "source": [
    "regr1 = RandomForestRegressor(max_depth=2,random_state=0)\n",
    "regr1.fit(X_train, y_train.iloc[:,0])\n",
    "regr2 = RandomForestRegressor(max_depth=2, random_state=0)\n",
    "regr2.fit(X_train, y_train.iloc[:,1])"
   ]
  },
  {
   "cell_type": "code",
   "execution_count": null,
   "id": "f39b473b",
   "metadata": {
    "execution": {
     "iopub.execute_input": "2021-08-29T11:22:39.486534Z",
     "iopub.status.busy": "2021-08-29T11:22:39.486147Z",
     "iopub.status.idle": "2021-08-29T11:22:43.521429Z",
     "shell.execute_reply": "2021-08-29T11:22:43.520463Z",
     "shell.execute_reply.started": "2021-08-29T11:22:39.486499Z"
    },
    "papermill": {
     "duration": null,
     "end_time": null,
     "exception": null,
     "start_time": null,
     "status": "pending"
    },
    "tags": []
   },
   "outputs": [],
   "source": [
    "mse(X_train,y_train,regr1,regr2)"
   ]
  },
  {
   "cell_type": "code",
   "execution_count": null,
   "id": "a061946e",
   "metadata": {
    "execution": {
     "iopub.status.busy": "2021-08-29T10:55:54.841280Z",
     "iopub.status.idle": "2021-08-29T10:55:54.841846Z"
    },
    "papermill": {
     "duration": null,
     "end_time": null,
     "exception": null,
     "start_time": null,
     "status": "pending"
    },
    "tags": []
   },
   "outputs": [],
   "source": [
    "from sklearn.ensemble import GradientBoostingRegressor\n",
    "from sklearn.svm import SVR\n"
   ]
  },
  {
   "cell_type": "code",
   "execution_count": null,
   "id": "1f19548f",
   "metadata": {
    "execution": {
     "iopub.status.busy": "2021-08-29T10:50:18.633751Z",
     "iopub.status.idle": "2021-08-29T10:50:18.634181Z"
    },
    "papermill": {
     "duration": null,
     "end_time": null,
     "exception": null,
     "start_time": null,
     "status": "pending"
    },
    "tags": []
   },
   "outputs": [],
   "source": [
    "gbreg1 = GradientBoostingRegressor(random_state=0)\n",
    "gbreg2 = GradientBoostingRegressor(random_state=0)\n",
    "gbreg1.fit(X_train, y_train.iloc[:,0])\n",
    "gbreg2.fit(X_train, y_train.iloc[:,1])"
   ]
  },
  {
   "cell_type": "code",
   "execution_count": null,
   "id": "a066085b",
   "metadata": {
    "papermill": {
     "duration": null,
     "end_time": null,
     "exception": null,
     "start_time": null,
     "status": "pending"
    },
    "tags": []
   },
   "outputs": [],
   "source": [
    "svr1=SVR(C=1.0, epsilon=0.2)\n",
    "svr2=SVR(C=1.0, epsilon=0.2)\n",
    "svr1.fit(X_train, y_train.iloc[:,0])\n",
    "svr2.fit(X_train, y_train.iloc[:,1])"
   ]
  },
  {
   "cell_type": "code",
   "execution_count": null,
   "id": "9ac19b6d",
   "metadata": {
    "execution": {
     "iopub.execute_input": "2021-08-29T11:23:56.746172Z",
     "iopub.status.busy": "2021-08-29T11:23:56.745816Z",
     "iopub.status.idle": "2021-08-29T11:23:58.659198Z",
     "shell.execute_reply": "2021-08-29T11:23:58.658228Z",
     "shell.execute_reply.started": "2021-08-29T11:23:56.746141Z"
    },
    "papermill": {
     "duration": null,
     "end_time": null,
     "exception": null,
     "start_time": null,
     "status": "pending"
    },
    "tags": []
   },
   "outputs": [],
   "source": [
    "test=pd.read_csv(\"/kaggle/input/beyond-analysis/test.csv\")"
   ]
  },
  {
   "cell_type": "code",
   "execution_count": null,
   "id": "44704093",
   "metadata": {
    "execution": {
     "iopub.execute_input": "2021-08-29T11:24:00.256734Z",
     "iopub.status.busy": "2021-08-29T11:24:00.256346Z",
     "iopub.status.idle": "2021-08-29T11:24:00.290363Z",
     "shell.execute_reply": "2021-08-29T11:24:00.289430Z",
     "shell.execute_reply.started": "2021-08-29T11:24:00.256700Z"
    },
    "papermill": {
     "duration": null,
     "end_time": null,
     "exception": null,
     "start_time": null,
     "status": "pending"
    },
    "tags": []
   },
   "outputs": [],
   "source": [
    "test.head()"
   ]
  },
  {
   "cell_type": "code",
   "execution_count": null,
   "id": "8f75dd3c",
   "metadata": {
    "execution": {
     "iopub.execute_input": "2021-08-29T11:24:49.776411Z",
     "iopub.status.busy": "2021-08-29T11:24:49.775889Z",
     "iopub.status.idle": "2021-08-29T11:24:49.781881Z",
     "shell.execute_reply": "2021-08-29T11:24:49.781105Z",
     "shell.execute_reply.started": "2021-08-29T11:24:49.776359Z"
    },
    "papermill": {
     "duration": null,
     "end_time": null,
     "exception": null,
     "start_time": null,
     "status": "pending"
    },
    "tags": []
   },
   "outputs": [],
   "source": [
    "test.shape"
   ]
  },
  {
   "cell_type": "code",
   "execution_count": null,
   "id": "ab4c9e1b",
   "metadata": {
    "execution": {
     "iopub.execute_input": "2021-08-29T11:24:45.337229Z",
     "iopub.status.busy": "2021-08-29T11:24:45.336857Z",
     "iopub.status.idle": "2021-08-29T11:24:46.975270Z",
     "shell.execute_reply": "2021-08-29T11:24:46.974477Z",
     "shell.execute_reply.started": "2021-08-29T11:24:45.337197Z"
    },
    "papermill": {
     "duration": null,
     "end_time": null,
     "exception": null,
     "start_time": null,
     "status": "pending"
    },
    "tags": []
   },
   "outputs": [],
   "source": [
    "test.drop_duplicates(inplace=True)"
   ]
  },
  {
   "cell_type": "code",
   "execution_count": null,
   "id": "8ecd32a8",
   "metadata": {
    "execution": {
     "iopub.execute_input": "2021-08-29T11:26:10.406921Z",
     "iopub.status.busy": "2021-08-29T11:26:10.406569Z",
     "iopub.status.idle": "2021-08-29T11:26:11.867881Z",
     "shell.execute_reply": "2021-08-29T11:26:11.866495Z",
     "shell.execute_reply.started": "2021-08-29T11:26:10.406890Z"
    },
    "papermill": {
     "duration": null,
     "end_time": null,
     "exception": null,
     "start_time": null,
     "status": "pending"
    },
    "tags": []
   },
   "outputs": [],
   "source": [
    "test=encoder.transform(test)\n",
    "test.head()\n"
   ]
  },
  {
   "cell_type": "code",
   "execution_count": null,
   "id": "1cd055c6",
   "metadata": {
    "execution": {
     "iopub.execute_input": "2021-08-29T11:26:31.706725Z",
     "iopub.status.busy": "2021-08-29T11:26:31.706294Z",
     "iopub.status.idle": "2021-08-29T11:26:40.738159Z",
     "shell.execute_reply": "2021-08-29T11:26:40.737358Z",
     "shell.execute_reply.started": "2021-08-29T11:26:31.706680Z"
    },
    "papermill": {
     "duration": null,
     "end_time": null,
     "exception": null,
     "start_time": null,
     "status": "pending"
    },
    "tags": []
   },
   "outputs": [],
   "source": [
    "test.drop([\"CATEGORY_1_0\",\"CATEGORY_2_0\"],axis=1,inplace=True)\n",
    "test.iloc[:,1:]=sc.transform(test.iloc[:,1:])\n",
    "test.head()"
   ]
  },
  {
   "cell_type": "code",
   "execution_count": null,
   "id": "5551d8b5",
   "metadata": {
    "execution": {
     "iopub.execute_input": "2021-08-29T11:26:52.488402Z",
     "iopub.status.busy": "2021-08-29T11:26:52.487898Z",
     "iopub.status.idle": "2021-08-29T11:26:56.004697Z",
     "shell.execute_reply": "2021-08-29T11:26:56.003652Z",
     "shell.execute_reply.started": "2021-08-29T11:26:52.488354Z"
    },
    "papermill": {
     "duration": null,
     "end_time": null,
     "exception": null,
     "start_time": null,
     "status": "pending"
    },
    "tags": []
   },
   "outputs": [],
   "source": [
    "idx=test.iloc[:,0]\n",
    "y1=regr1.predict(test.iloc[:,1:])\n",
    "y2=regr2.predict(test.iloc[:,1:])"
   ]
  },
  {
   "cell_type": "code",
   "execution_count": null,
   "id": "cd0115c5",
   "metadata": {
    "execution": {
     "iopub.execute_input": "2021-08-29T11:29:25.657666Z",
     "iopub.status.busy": "2021-08-29T11:29:25.657306Z",
     "iopub.status.idle": "2021-08-29T11:29:25.671953Z",
     "shell.execute_reply": "2021-08-29T11:29:25.670635Z",
     "shell.execute_reply.started": "2021-08-29T11:29:25.657634Z"
    },
    "papermill": {
     "duration": null,
     "end_time": null,
     "exception": null,
     "start_time": null,
     "status": "pending"
    },
    "tags": []
   },
   "outputs": [],
   "source": [
    "fd=pd.DataFrame({\"UNIQUE_IDENTIFIER\":idx,\"Y1\":y1,\"Y2\":y2})"
   ]
  },
  {
   "cell_type": "code",
   "execution_count": null,
   "id": "3e0592ae",
   "metadata": {
    "execution": {
     "iopub.execute_input": "2021-08-29T11:33:27.117537Z",
     "iopub.status.busy": "2021-08-29T11:33:27.117101Z",
     "iopub.status.idle": "2021-08-29T11:33:27.596608Z",
     "shell.execute_reply": "2021-08-29T11:33:27.595783Z",
     "shell.execute_reply.started": "2021-08-29T11:33:27.117482Z"
    },
    "papermill": {
     "duration": null,
     "end_time": null,
     "exception": null,
     "start_time": null,
     "status": "pending"
    },
    "tags": []
   },
   "outputs": [],
   "source": [
    "fd.groupby(by=\"UNIQUE_IDENTIFIER\").mean().to_csv(\"sub1.csv\")"
   ]
  },
  {
   "cell_type": "code",
   "execution_count": null,
   "id": "96cdfe09",
   "metadata": {
    "execution": {
     "iopub.execute_input": "2021-08-29T09:55:10.502236Z",
     "iopub.status.busy": "2021-08-29T09:55:10.501854Z",
     "iopub.status.idle": "2021-08-29T09:55:10.874845Z",
     "shell.execute_reply": "2021-08-29T09:55:10.873650Z",
     "shell.execute_reply.started": "2021-08-29T09:55:10.502202Z"
    },
    "papermill": {
     "duration": null,
     "end_time": null,
     "exception": null,
     "start_time": null,
     "status": "pending"
    },
    "tags": []
   },
   "outputs": [],
   "source": [
    "import matplotlib.pyplot as plt\n",
    "importances= regr.feature_importances_\n",
    "forest_importances = pd.Series(importances, index=data.columns[1:23])\n",
    "\n",
    "fig, ax = plt.subplots()\n",
    "forest_importances.plot.bar(ax=ax)\n",
    "ax.set_title(\"Feature importances using MDI\")\n",
    "ax.set_ylabel(\"Mean decrease in impurity\")\n",
    "fig.tight_layout()"
   ]
  },
  {
   "cell_type": "code",
   "execution_count": null,
   "id": "bb05d9e1",
   "metadata": {
    "execution": {
     "iopub.execute_input": "2021-08-29T11:33:45.636926Z",
     "iopub.status.busy": "2021-08-29T11:33:45.636552Z",
     "iopub.status.idle": "2021-08-29T11:33:46.408583Z",
     "shell.execute_reply": "2021-08-29T11:33:46.406968Z",
     "shell.execute_reply.started": "2021-08-29T11:33:45.636893Z"
    },
    "papermill": {
     "duration": null,
     "end_time": null,
     "exception": null,
     "start_time": null,
     "status": "pending"
    },
    "tags": []
   },
   "outputs": [],
   "source": [
    "ls"
   ]
  },
  {
   "cell_type": "code",
   "execution_count": null,
   "id": "fc1fa915",
   "metadata": {
    "papermill": {
     "duration": null,
     "end_time": null,
     "exception": null,
     "start_time": null,
     "status": "pending"
    },
    "tags": []
   },
   "outputs": [],
   "source": []
  }
 ],
 "metadata": {
  "kernelspec": {
   "display_name": "Python 3",
   "language": "python",
   "name": "python3"
  },
  "language_info": {
   "codemirror_mode": {
    "name": "ipython",
    "version": 3
   },
   "file_extension": ".py",
   "mimetype": "text/x-python",
   "name": "python",
   "nbconvert_exporter": "python",
   "pygments_lexer": "ipython3",
   "version": "3.7.10"
  },
  "papermill": {
   "default_parameters": {},
   "duration": 19.437501,
   "end_time": "2021-08-29T11:47:22.333862",
   "environment_variables": {},
   "exception": true,
   "input_path": "__notebook__.ipynb",
   "output_path": "__notebook__.ipynb",
   "parameters": {},
   "start_time": "2021-08-29T11:47:02.896361",
   "version": "2.3.3"
  }
 },
 "nbformat": 4,
 "nbformat_minor": 5
}
